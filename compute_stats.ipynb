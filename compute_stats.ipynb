{
 "cells": [
  {
   "cell_type": "markdown",
   "metadata": {},
   "source": [
    "This file is used to compute basic statistics on the files in the stats folder.\n",
    "\n",
    "### Import Statements"
   ]
  },
  {
   "cell_type": "code",
   "execution_count": 7,
   "metadata": {
    "collapsed": true
   },
   "outputs": [],
   "source": [
    "import json\n",
    "import matplotlib.pyplot as plt\n",
    "import math"
   ]
  },
  {
   "cell_type": "markdown",
   "metadata": {},
   "source": [
    "### Basic Statistics for AADT by Road"
   ]
  },
  {
   "cell_type": "code",
   "execution_count": 76,
   "metadata": {},
   "outputs": [
    {
     "name": "stdout",
     "output_type": "stream",
     "text": [
      "Road Type       |  Total Roads  AADT Present  Present/Total    Mean AADT  Median AADT   AADT Stdv.     Max AADT     Min AADT\n",
      "------------------------------------------------------------------------------------------------------------------------------\n",
      "residential     |         2082            70          0.034      1577.63         1184       1711.20        10203          115\n",
      "tertiary        |          288           128          0.444      1005.47          678       1087.35         8774          153\n",
      "secondary       |          236           194          0.822      3592.76         2928       2171.66        10548          566\n",
      "primary         |          150           146          0.973      5536.31         5260       2471.51        10548          900\n",
      "motorway        |           75            59          0.787     14052.19        14300       5773.94        27881         3454\n",
      "------------------------------------------------------------------------------------------------------------------------------\n",
      "Total           |         2831            597          0.211      4310.74         2928      4477.65        27881          115\n"
     ]
    }
   ],
   "source": [
    "f = open(\"stats/livingston_roads.txt\",'r')\n",
    "roads = [json.loads(line) for line in f.read().splitlines()]\n",
    "f.close()\n",
    "\n",
    "road_types = {}\n",
    "\n",
    "# split the AADT up by road type\n",
    "for road in roads:\n",
    "    \n",
    "    # if we have seen this road type before\n",
    "    try:\n",
    "        road_types[road['road type']].append(road['AADT'])\n",
    "        \n",
    "    # if we haven't, make a new list\n",
    "    except KeyError:\n",
    "        road_types[road['road type']] = [road['AADT']]\n",
    "        \n",
    "# the header of each column\n",
    "print(\"{:15s} | {:12}  {:12}  {:13s} {:12s} {:12s} {:12s} {:12s} {:12s}\".format(\"Road Type\",\\\n",
    "       \"Total Roads\".rjust(12),  \"AADT Present\".rjust(12),  \"Present/Total\".rjust(13),\\\n",
    "        \"Mean AADT\".rjust(12), \"Median AADT\".rjust(12), \"AADT Stdv.\".rjust(12), \"Max AADT\".rjust(12), \"Min AADT\".rjust(12)))\n",
    "print(\"-\"*126)\n",
    "for key in road_types:\n",
    "      \n",
    "    # make a list for the roads with AADT data\n",
    "    state = [AADT for AADT in road_types[key] if AADT != None]\n",
    "          \n",
    "    meanvalue = sum(state)/len(state)\n",
    "    median = sorted(state)[len(state)//2]\n",
    "    stdv = math.sqrt(sum([(v - meanvalue)**2 for v in state])/len(state))\n",
    "    print(\"{:15s} | {:12}  {:12}  {:13.3f} {:12.2f} {:12}  {:12.2f} {:12} {:12}\".format(key,\\\n",
    "            len(road_types[key]),len(state),len(state)/len(road_types[key]),\\\n",
    "                meanvalue, median, stdv, max(state), min(state)))\n",
    "print(\"-\"*126)\n",
    "\n",
    "state = [road['AADT'] for road in roads if road['AADT'] != None]\n",
    "meanvalue = sum(state)/len(state)\n",
    "median = sorted(state)[len(state)//2]\n",
    "stdv = math.sqrt(sum([(v - meanvalue)**2 for v in state])/len(state))\n",
    "\n",
    "# the total over all types\n",
    "print(\"{:15s} | {:12}   {:12}  {:13.3f} {:12.2f} {:12} {:12.2f} {:12} {:12}\".format(\"Total\",\\\n",
    "            len(roads),len(state),len(state)/len(roads),\\\n",
    "                meanvalue, median, stdv, max(state), min(state)))"
   ]
  },
  {
   "cell_type": "markdown",
   "metadata": {},
   "source": [
    "### Basic Statistics for Speed Limit by Road"
   ]
  },
  {
   "cell_type": "code",
   "execution_count": 78,
   "metadata": {},
   "outputs": [
    {
     "name": "stdout",
     "output_type": "stream",
     "text": [
      "Road Type       |  Total Roads  Speeds Present  Present/Total   Mean Speed Median Speed  Speed Stdv.    Max Speed    Min Speed\n",
      "------------------------------------------------------------------------------------------------------------------------------\n",
      "residential     |         2082               0            0.0            -            -            -            -            -\n",
      "tertiary        |          288               4          0.014        43.75           55        12.44           55           25\n",
      "secondary       |          236              42          0.178        39.40           35        10.98           55           30\n",
      "primary         |          150              60          0.400        49.75           55         8.78           55           30\n",
      "motorway        |           75              75          1.000        65.00           65         0.00           65           65\n",
      "------------------------------------------------------------------------------------------------------------------------------\n",
      "Total           |          181             181          0.064        53.54           55        12.83           65           25\n"
     ]
    }
   ],
   "source": [
    "f = open(\"stats/livingston_roads.txt\",'r')\n",
    "roads = [json.loads(line) for line in f.read().splitlines()]\n",
    "f.close()\n",
    "\n",
    "road_types = {}\n",
    "\n",
    "# split the AADT up by road type\n",
    "for road in roads:\n",
    "    \n",
    "    # if we have seen this road type before\n",
    "    try:\n",
    "        road_types[road['road type']].append(road['speed'])\n",
    "        \n",
    "    # if we haven't, make a new list\n",
    "    except KeyError:\n",
    "        road_types[road['road type']] = [road['speed']]\n",
    "        \n",
    "# the header of each column\n",
    "print(\"{:15s} | {:12}  {:14}  {:13s} {:12s} {:12s} {:12s} {:12s} {:12s}\".format(\"Road Type\",\\\n",
    "       \"Total Roads\".rjust(12),  \"Speeds Present\".rjust(14),  \"Present/Total\".rjust(13),\\\n",
    "        \"Mean Speed\".rjust(12), \"Median Speed\".rjust(12), \"Speed Stdv.\".rjust(12), \"Max Speed\".rjust(12), \"Min Speed\".rjust(12)))\n",
    "print(\"-\"*126)\n",
    "for key in road_types:\n",
    "      \n",
    "    # make a list for the roads with AADT data\n",
    "    speeds = [speed for speed in road_types[key] if speed != None]\n",
    "    \n",
    "    if len(speeds) == 0:\n",
    "        print(\"{:15s} | {:12}  {:14}  {:13} {:12} {:12} {:12} {:12} {:12}\".format(key,\\\n",
    "            len(road_types[key]),len(speeds),len(speeds)/len(road_types[key]),\\\n",
    "                '-'.rjust(12), '-'.rjust(12), '-'.rjust(12), '-'.rjust(12), '-'.rjust(12)))\n",
    "    else:\n",
    "        meanvalue = sum(speeds)/len(speeds)\n",
    "        median = sorted(speeds)[len(speeds)//2]\n",
    "        stdv = math.sqrt(sum([(v - meanvalue)**2 for v in speeds])/len(speeds))\n",
    "        print(\"{:15s} | {:12}  {:14}  {:13.3f} {:12.2f} {:12} {:12.2f} {:12} {:12}\".format(key,\\\n",
    "                len(road_types[key]),len(speeds),len(speeds)/len(road_types[key]),\\\n",
    "                    meanvalue, median, stdv, max(speeds), min(speeds)))\n",
    "print(\"-\"*126)\n",
    "\n",
    "speeds = [road['speed'] for road in roads if road['speed'] != None]\n",
    "meanvalue = sum(speeds)/len(speeds)\n",
    "median = sorted(speeds)[len(speeds)//2]\n",
    "stdv = math.sqrt(sum([(v - meanvalue)**2 for v in speeds])/len(speeds))\n",
    "\n",
    "# the total over all types\n",
    "print(\"{:15s} | {:12}  {:14}  {:13.3f} {:12.2f} {:12} {:12.2f} {:12} {:12}\".format(\"Total\",\\\n",
    "            len(speeds),len(speeds),len(speeds)/len(roads),\\\n",
    "                meanvalue, median, stdv, max(speeds), min(speeds)))"
   ]
  },
  {
   "cell_type": "markdown",
   "metadata": {},
   "source": [
    "### Basic Statistics for Intersections"
   ]
  },
  {
   "cell_type": "code",
   "execution_count": 79,
   "metadata": {},
   "outputs": [
    {
     "name": "stdout",
     "output_type": "stream",
     "text": [
      "Category                   |    Mean     Max     Min  Median   Stdv. Present  Missing\n",
      "-------------------------------------------------------------------------------------\n",
      "Traffic Light              &    0.01 &       1&       0&     0.0 &    0.1 &   3481 &       0\n",
      "Number of State Directions &    0.91 &       4&       0&     0.0 &    1.1 &   3481 &       0\n",
      "Average AADT               & 3755.29 &   27881&     115&  2940.0 & 3322.8 &   1528 &    1953\n",
      "Total AADT                 & 7829.62 &   55762&     115&  6202.0 & 6943.7 &   1528 &    1953\n",
      "Average Road Score         &    1.75 &       5&       1&     1.5 &    0.9 &   3481 &       0\n",
      "Speed Limit                &   48.43 &      65&      25&    55.0 &   12.9 &    363 &    3118\n"
     ]
    }
   ],
   "source": [
    "f = open(\"stats/livingston_intersections_plus.txt.\",'r')\n",
    "\n",
    "# make a list for each category\n",
    "traffic_lights = []\n",
    "num_state_directions = []\n",
    "average_AADT = []\n",
    "total_AADT = []\n",
    "road_type_scores = []\n",
    "speed_limits = []\n",
    "\n",
    "for line in f:\n",
    "    int_plus = json.loads(line)\n",
    "    traffic_lights.append(int_plus['traffic light'])\n",
    "    num_state_directions.append(int_plus['num state directions'])\n",
    "    average_AADT.append(int_plus['average AADT'])\n",
    "    total_AADT.append(int_plus['total AADT'])\n",
    "    road_type_scores.append(int_plus['average road score'])\n",
    "    speed_limits.append(int_plus['average speed'])\n",
    "f.close()\n",
    "\n",
    "all_data = {'Traffic Light': traffic_lights, 'Number of State Directions': num_state_directions,\\\n",
    "            'Average AADT': average_AADT, 'Total AADT': total_AADT, \\\n",
    "            'Average Road Score': road_type_scores, 'Speed Limit': speed_limits}\n",
    "print(\"{:26s} | {:7} {:7} {:7s} {:7s} {:7s} {:7s} {:7s}\".format(\"Category\",\\\n",
    "       \"Mean\".rjust(7), \"Max\".rjust(7), \"Min\".rjust(7), \"Median\".rjust(7),\\\n",
    "        \"Stdv.\".rjust(7), \"Present\".rjust(7),  \"Missing\".rjust(8)))\n",
    "print(\"-\"*85)\n",
    "for key in all_data:\n",
    "    values = all_data[key]\n",
    "    \n",
    "    # separate the missing values\n",
    "    present = []\n",
    "    missing = 0\n",
    "    for value in values:\n",
    "        if value == None:\n",
    "            missing += 1\n",
    "        else:\n",
    "            present.append(value)\n",
    "    maxvalue = max(present)\n",
    "    minvalue = min(present)\n",
    "    meanvalue = sum(present)/len(present)\n",
    "    medianvalue = sorted(present)[len(present)//2]\n",
    "    N = len(present)\n",
    "    stdv = math.sqrt(sum([(v - meanvalue)**2 for v in present])/len(present))\n",
    "    print(\"{:26s} & {:7.2f} & {:7}& {:7}& {:7.1f} &{:7.1f} &{:7} &{:8}\".format(key,\\\n",
    "            meanvalue,int(maxvalue), int(minvalue) ,medianvalue, stdv, N, missing))"
   ]
  },
  {
   "cell_type": "markdown",
   "metadata": {},
   "source": [
    "### Statistics for Intersections with Multiple State Roads"
   ]
  },
  {
   "cell_type": "code",
   "execution_count": 59,
   "metadata": {},
   "outputs": [
    {
     "name": "stdout",
     "output_type": "stream",
     "text": [
      "Category                   |    Mean      Max     Min  Median   Stdv. Present  Missing\n",
      "-------------------------------------------------------------------------------------\n",
      "Traffic Light              |     0.12       1       0     0.0     0.3     167        0\n",
      "Number of State Directions |     3.22       4       3     3.0     0.4     167        0\n",
      "Average AADT               |  3438.07   10344     214  2939.0  2310.1     167        0\n",
      "Total AADT                 | 10894.76   31032     642  9295.0  7105.7     167        0\n",
      "Average Road Score         |     2.64       4       1     2.7     0.8     167        0\n",
      "Speed Limit                |    43.55      55      30    45.0    10.8      39      128\n"
     ]
    }
   ],
   "source": [
    "f = open(\"stats/livingston_intersections_plus.txt.\",'r')\n",
    "\n",
    "# make a list for each category\n",
    "traffic_lights = []\n",
    "num_state_directions = []\n",
    "average_AADT = []\n",
    "total_AADT = []\n",
    "road_type_scores = []\n",
    "speed_limits = []\n",
    "\n",
    "for line in f:\n",
    "    int_plus = json.loads(line)\n",
    "    \n",
    "    # make sure we have at least two state roads\n",
    "    if int_plus['num state directions'] > 2:\n",
    "        traffic_lights.append(int_plus['traffic light'])\n",
    "        num_state_directions.append(int_plus['num state directions'])\n",
    "        average_AADT.append(int_plus['average AADT'])\n",
    "        total_AADT.append(int_plus['total AADT'])\n",
    "        road_type_scores.append(int_plus['average road score'])\n",
    "        speed_limits.append(int_plus['average speed'])\n",
    "f.close()\n",
    "\n",
    "all_data = {'Traffic Light': traffic_lights, 'Number of State Directions': num_state_directions,\\\n",
    "            'Average AADT': average_AADT, 'Total AADT': total_AADT, \\\n",
    "            'Average Road Score': road_type_scores, 'Speed Limit': speed_limits}\n",
    "print(\"{:26s} | {:8} {:7} {:7s} {:7s} {:7s} {:7s} {:7s}\".format(\"Category\",\\\n",
    "       \"Mean\".rjust(7), \"Max\".rjust(7), \"Min\".rjust(7), \"Median\".rjust(7),\\\n",
    "        \"Stdv.\".rjust(7), \"Present\".rjust(7),  \"Missing\".rjust(8)))\n",
    "print(\"-\"*85)\n",
    "for key in all_data:\n",
    "    values = all_data[key]\n",
    "    \n",
    "    # separate the missing values\n",
    "    present = []\n",
    "    missing = 0\n",
    "    for value in values:\n",
    "        if value == None:\n",
    "            missing += 1\n",
    "        else:\n",
    "            present.append(value)\n",
    "    maxvalue = max(present)\n",
    "    minvalue = min(present)\n",
    "    meanvalue = sum(present)/len(present)\n",
    "    medianvalue = sorted(present)[len(present)//2]\n",
    "    N = len(present)\n",
    "    stdv = math.sqrt(sum([(v - meanvalue)**2 for v in present])/len(present))\n",
    "    print(\"{:26s} | {:8.2f} {:7} {:7} {:7.1f} {:7.1f} {:7} {:8}\".format(key,\\\n",
    "            meanvalue,int(maxvalue), int(minvalue) ,medianvalue, stdv, N, missing))"
   ]
  },
  {
   "cell_type": "markdown",
   "metadata": {
    "collapsed": true
   },
   "source": [
    "### More Statistics on Intersections"
   ]
  },
  {
   "cell_type": "code",
   "execution_count": 70,
   "metadata": {},
   "outputs": [
    {
     "name": "stdout",
     "output_type": "stream",
     "text": [
      "Number of State Directions | Intersections   With Light   Proportion  Avg AADT with Light     Avg AADT without\n",
      "----------------------------------------------------------------------------------------------------------------\n",
      "1                          |           86            0        0.000                    -             2135.140\n",
      "2                          |         1275            9        0.007             5670.278             3893.578\n",
      "3                          |          130           15        0.115             4674.444             3539.881\n",
      "4                          |           37            5        0.135             5084.800             2235.312\n"
     ]
    }
   ],
   "source": [
    "f = open(\"stats/livingston_intersections_plus.txt\", 'r')\n",
    "by_num_state_directions = {}\n",
    "for line in f:\n",
    "    int_plus = json.loads(line)\n",
    "    n = int_plus['num state directions']\n",
    "    if int_plus['average AADT'] != None:\n",
    "        try:\n",
    "            by_num_state_directions[n].append(int_plus)\n",
    "        except KeyError:\n",
    "            by_num_state_directions[n] = [int_plus]\n",
    "f.close()\n",
    "\n",
    "print(\"{:26s} | {:12} {:12} {:12s} {:20s} {:20s}\".format(\"Number of State Directions\",\\\n",
    "       \"Intersections\".rjust(12), \"With Light\".rjust(12), \"Proportion\".rjust(12), \"Avg AADT with Light\".rjust(20),\\\n",
    "        \"Avg AADT without\".rjust(20)))\n",
    "print(\"-\"*112)\n",
    "\n",
    "for n in sorted(by_num_state_directions.keys()):\n",
    "    num_ints = len(by_num_state_directions[n])\n",
    "    with_light = []\n",
    "    without = []\n",
    "    \n",
    "    # put the intersections into separate lists\n",
    "    for int_plus in by_num_state_directions[n]:\n",
    "        if int_plus['traffic light'] == 1:\n",
    "            with_light.append(int_plus)\n",
    "        else:\n",
    "            without.append(int_plus)\n",
    "    \n",
    "    avg_AADT_without = sum([int_plus['average AADT'] for int_plus in without])/len(without)\n",
    "    num_with_light = len(with_light)\n",
    "    if num_with_light != 0:\n",
    "        avg_AADT_with = sum([int_plus['average AADT'] for int_plus in with_light])/len(with_light)\n",
    "        print(\"{:26s} | {:12} {:12} {:12.3f} {:20.3f} {:20.3f}\".format(str(n), num_ints, len(with_light),\\\n",
    "            len(with_light)/num_ints, avg_AADT_with, avg_AADT_without))\n",
    "    else:\n",
    "        print(\"{:26s} | {:12} {:12} {:12.3f} {:20s} {:20.3f}\".format(str(n), num_ints, len(with_light),\\\n",
    "            len(with_light)/num_ints, '-'.rjust(20), avg_AADT_without))"
   ]
  },
  {
   "cell_type": "code",
   "execution_count": null,
   "metadata": {
    "collapsed": true
   },
   "outputs": [],
   "source": []
  }
 ],
 "metadata": {
  "kernelspec": {
   "display_name": "Python 3",
   "language": "python",
   "name": "python3"
  },
  "language_info": {
   "codemirror_mode": {
    "name": "ipython",
    "version": 3
   },
   "file_extension": ".py",
   "mimetype": "text/x-python",
   "name": "python",
   "nbconvert_exporter": "python",
   "pygments_lexer": "ipython3",
   "version": "3.6.1"
  }
 },
 "nbformat": 4,
 "nbformat_minor": 2
}
